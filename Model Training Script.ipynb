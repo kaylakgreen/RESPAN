{
 "cells": [
  {
   "cell_type": "code",
   "execution_count": null,
   "id": "b3ee89e5",
   "metadata": {},
   "outputs": [],
   "source": []
  },
  {
   "cell_type": "code",
   "execution_count": null,
   "id": "19cec66b",
   "metadata": {},
   "outputs": [],
   "source": [
    "#spine-analysis install directory to path\n",
    "import sys\n",
    "sys.path.append('D:/Dropbox/Github/spine-analysis')"
   ]
  }
 ],
 "metadata": {
  "kernelspec": {
   "display_name": "QLEANv4",
   "language": "python",
   "name": "qleanv4"
  },
  "language_info": {
   "codemirror_mode": {
    "name": "ipython",
    "version": 3
   },
   "file_extension": ".py",
   "mimetype": "text/x-python",
   "name": "python",
   "nbconvert_exporter": "python",
   "pygments_lexer": "ipython3",
   "version": "3.8.12"
  }
 },
 "nbformat": 4,
 "nbformat_minor": 5
}
